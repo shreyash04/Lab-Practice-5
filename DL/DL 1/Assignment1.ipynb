{
 "cells": [
  {
   "cell_type": "code",
   "execution_count": 1,
   "id": "36e90601",
   "metadata": {},
   "outputs": [],
   "source": [
    "import pandas as pd\n",
    "import matplotlib.pyplot as plt"
   ]
  },
  {
   "attachments": {},
   "cell_type": "markdown",
   "id": "09c0d469",
   "metadata": {},
   "source": [
    "### Load Dataset"
   ]
  },
  {
   "cell_type": "code",
   "execution_count": 2,
   "id": "64638d93",
   "metadata": {},
   "outputs": [
    {
     "data": {
      "text/html": [
       "<div>\n",
       "<style scoped>\n",
       "    .dataframe tbody tr th:only-of-type {\n",
       "        vertical-align: middle;\n",
       "    }\n",
       "\n",
       "    .dataframe tbody tr th {\n",
       "        vertical-align: top;\n",
       "    }\n",
       "\n",
       "    .dataframe thead th {\n",
       "        text-align: right;\n",
       "    }\n",
       "</style>\n",
       "<table border=\"1\" class=\"dataframe\">\n",
       "  <thead>\n",
       "    <tr style=\"text-align: right;\">\n",
       "      <th></th>\n",
       "      <th>CRIM</th>\n",
       "      <th>ZN</th>\n",
       "      <th>INDUS</th>\n",
       "      <th>CHAS</th>\n",
       "      <th>NOX</th>\n",
       "      <th>RM</th>\n",
       "      <th>AGE</th>\n",
       "      <th>DIS</th>\n",
       "      <th>RAD</th>\n",
       "      <th>TAX</th>\n",
       "      <th>PTRATIO</th>\n",
       "      <th>B</th>\n",
       "      <th>LSTAT</th>\n",
       "      <th>MEDV</th>\n",
       "      <th>CAT. MEDV</th>\n",
       "      <th>Unnamed: 15</th>\n",
       "      <th>Unnamed: 16</th>\n",
       "    </tr>\n",
       "  </thead>\n",
       "  <tbody>\n",
       "    <tr>\n",
       "      <th>0</th>\n",
       "      <td>0.00632</td>\n",
       "      <td>18.0</td>\n",
       "      <td>2.31</td>\n",
       "      <td>0</td>\n",
       "      <td>0.538</td>\n",
       "      <td>6.575</td>\n",
       "      <td>65.2</td>\n",
       "      <td>4.0900</td>\n",
       "      <td>1</td>\n",
       "      <td>296</td>\n",
       "      <td>15.3</td>\n",
       "      <td>396.90</td>\n",
       "      <td>4.98</td>\n",
       "      <td>24.0</td>\n",
       "      <td>0</td>\n",
       "      <td>NaN</td>\n",
       "      <td>NaN</td>\n",
       "    </tr>\n",
       "    <tr>\n",
       "      <th>1</th>\n",
       "      <td>0.02731</td>\n",
       "      <td>0.0</td>\n",
       "      <td>7.07</td>\n",
       "      <td>0</td>\n",
       "      <td>0.469</td>\n",
       "      <td>6.421</td>\n",
       "      <td>78.9</td>\n",
       "      <td>4.9671</td>\n",
       "      <td>2</td>\n",
       "      <td>242</td>\n",
       "      <td>17.8</td>\n",
       "      <td>396.90</td>\n",
       "      <td>9.14</td>\n",
       "      <td>21.6</td>\n",
       "      <td>0</td>\n",
       "      <td>NaN</td>\n",
       "      <td>NaN</td>\n",
       "    </tr>\n",
       "    <tr>\n",
       "      <th>2</th>\n",
       "      <td>0.02729</td>\n",
       "      <td>0.0</td>\n",
       "      <td>7.07</td>\n",
       "      <td>0</td>\n",
       "      <td>0.469</td>\n",
       "      <td>7.185</td>\n",
       "      <td>61.1</td>\n",
       "      <td>4.9671</td>\n",
       "      <td>2</td>\n",
       "      <td>242</td>\n",
       "      <td>17.8</td>\n",
       "      <td>392.83</td>\n",
       "      <td>4.03</td>\n",
       "      <td>34.7</td>\n",
       "      <td>1</td>\n",
       "      <td>NaN</td>\n",
       "      <td>NaN</td>\n",
       "    </tr>\n",
       "    <tr>\n",
       "      <th>3</th>\n",
       "      <td>0.03237</td>\n",
       "      <td>0.0</td>\n",
       "      <td>2.18</td>\n",
       "      <td>0</td>\n",
       "      <td>0.458</td>\n",
       "      <td>6.998</td>\n",
       "      <td>45.8</td>\n",
       "      <td>6.0622</td>\n",
       "      <td>3</td>\n",
       "      <td>222</td>\n",
       "      <td>18.7</td>\n",
       "      <td>394.63</td>\n",
       "      <td>2.94</td>\n",
       "      <td>33.4</td>\n",
       "      <td>1</td>\n",
       "      <td>NaN</td>\n",
       "      <td>NaN</td>\n",
       "    </tr>\n",
       "    <tr>\n",
       "      <th>4</th>\n",
       "      <td>0.06905</td>\n",
       "      <td>0.0</td>\n",
       "      <td>2.18</td>\n",
       "      <td>0</td>\n",
       "      <td>0.458</td>\n",
       "      <td>7.147</td>\n",
       "      <td>54.2</td>\n",
       "      <td>6.0622</td>\n",
       "      <td>3</td>\n",
       "      <td>222</td>\n",
       "      <td>18.7</td>\n",
       "      <td>396.90</td>\n",
       "      <td>5.33</td>\n",
       "      <td>36.2</td>\n",
       "      <td>1</td>\n",
       "      <td>NaN</td>\n",
       "      <td>NaN</td>\n",
       "    </tr>\n",
       "    <tr>\n",
       "      <th>5</th>\n",
       "      <td>0.02985</td>\n",
       "      <td>0.0</td>\n",
       "      <td>2.18</td>\n",
       "      <td>0</td>\n",
       "      <td>0.458</td>\n",
       "      <td>6.430</td>\n",
       "      <td>58.7</td>\n",
       "      <td>6.0622</td>\n",
       "      <td>3</td>\n",
       "      <td>222</td>\n",
       "      <td>18.7</td>\n",
       "      <td>394.12</td>\n",
       "      <td>5.21</td>\n",
       "      <td>28.7</td>\n",
       "      <td>0</td>\n",
       "      <td>NaN</td>\n",
       "      <td>NaN</td>\n",
       "    </tr>\n",
       "    <tr>\n",
       "      <th>6</th>\n",
       "      <td>0.08829</td>\n",
       "      <td>12.5</td>\n",
       "      <td>7.87</td>\n",
       "      <td>0</td>\n",
       "      <td>0.524</td>\n",
       "      <td>6.012</td>\n",
       "      <td>66.6</td>\n",
       "      <td>5.5605</td>\n",
       "      <td>5</td>\n",
       "      <td>311</td>\n",
       "      <td>15.2</td>\n",
       "      <td>395.60</td>\n",
       "      <td>12.43</td>\n",
       "      <td>22.9</td>\n",
       "      <td>0</td>\n",
       "      <td>NaN</td>\n",
       "      <td>NaN</td>\n",
       "    </tr>\n",
       "    <tr>\n",
       "      <th>7</th>\n",
       "      <td>0.14455</td>\n",
       "      <td>12.5</td>\n",
       "      <td>7.87</td>\n",
       "      <td>0</td>\n",
       "      <td>0.524</td>\n",
       "      <td>6.172</td>\n",
       "      <td>96.1</td>\n",
       "      <td>5.9505</td>\n",
       "      <td>5</td>\n",
       "      <td>311</td>\n",
       "      <td>15.2</td>\n",
       "      <td>396.90</td>\n",
       "      <td>19.15</td>\n",
       "      <td>27.1</td>\n",
       "      <td>0</td>\n",
       "      <td>NaN</td>\n",
       "      <td>NaN</td>\n",
       "    </tr>\n",
       "    <tr>\n",
       "      <th>8</th>\n",
       "      <td>0.21124</td>\n",
       "      <td>12.5</td>\n",
       "      <td>7.87</td>\n",
       "      <td>0</td>\n",
       "      <td>0.524</td>\n",
       "      <td>5.631</td>\n",
       "      <td>100.0</td>\n",
       "      <td>6.0821</td>\n",
       "      <td>5</td>\n",
       "      <td>311</td>\n",
       "      <td>15.2</td>\n",
       "      <td>386.63</td>\n",
       "      <td>29.93</td>\n",
       "      <td>16.5</td>\n",
       "      <td>0</td>\n",
       "      <td>NaN</td>\n",
       "      <td>NaN</td>\n",
       "    </tr>\n",
       "    <tr>\n",
       "      <th>9</th>\n",
       "      <td>0.17004</td>\n",
       "      <td>12.5</td>\n",
       "      <td>7.87</td>\n",
       "      <td>0</td>\n",
       "      <td>0.524</td>\n",
       "      <td>6.004</td>\n",
       "      <td>85.9</td>\n",
       "      <td>6.5921</td>\n",
       "      <td>5</td>\n",
       "      <td>311</td>\n",
       "      <td>15.2</td>\n",
       "      <td>386.71</td>\n",
       "      <td>17.10</td>\n",
       "      <td>18.9</td>\n",
       "      <td>0</td>\n",
       "      <td>NaN</td>\n",
       "      <td>NaN</td>\n",
       "    </tr>\n",
       "  </tbody>\n",
       "</table>\n",
       "</div>"
      ],
      "text/plain": [
       "      CRIM    ZN  INDUS  CHAS    NOX     RM    AGE     DIS  RAD  TAX  PTRATIO  \\\n",
       "0  0.00632  18.0   2.31     0  0.538  6.575   65.2  4.0900    1  296     15.3   \n",
       "1  0.02731   0.0   7.07     0  0.469  6.421   78.9  4.9671    2  242     17.8   \n",
       "2  0.02729   0.0   7.07     0  0.469  7.185   61.1  4.9671    2  242     17.8   \n",
       "3  0.03237   0.0   2.18     0  0.458  6.998   45.8  6.0622    3  222     18.7   \n",
       "4  0.06905   0.0   2.18     0  0.458  7.147   54.2  6.0622    3  222     18.7   \n",
       "5  0.02985   0.0   2.18     0  0.458  6.430   58.7  6.0622    3  222     18.7   \n",
       "6  0.08829  12.5   7.87     0  0.524  6.012   66.6  5.5605    5  311     15.2   \n",
       "7  0.14455  12.5   7.87     0  0.524  6.172   96.1  5.9505    5  311     15.2   \n",
       "8  0.21124  12.5   7.87     0  0.524  5.631  100.0  6.0821    5  311     15.2   \n",
       "9  0.17004  12.5   7.87     0  0.524  6.004   85.9  6.5921    5  311     15.2   \n",
       "\n",
       "        B  LSTAT  MEDV  CAT. MEDV  Unnamed: 15  Unnamed: 16  \n",
       "0  396.90   4.98  24.0          0          NaN          NaN  \n",
       "1  396.90   9.14  21.6          0          NaN          NaN  \n",
       "2  392.83   4.03  34.7          1          NaN          NaN  \n",
       "3  394.63   2.94  33.4          1          NaN          NaN  \n",
       "4  396.90   5.33  36.2          1          NaN          NaN  \n",
       "5  394.12   5.21  28.7          0          NaN          NaN  \n",
       "6  395.60  12.43  22.9          0          NaN          NaN  \n",
       "7  396.90  19.15  27.1          0          NaN          NaN  \n",
       "8  386.63  29.93  16.5          0          NaN          NaN  \n",
       "9  386.71  17.10  18.9          0          NaN          NaN  "
      ]
     },
     "execution_count": 2,
     "metadata": {},
     "output_type": "execute_result"
    }
   ],
   "source": [
    "df = pd.read_csv('Boston.csv')\n",
    "df.head(10)"
   ]
  },
  {
   "cell_type": "code",
   "execution_count": 3,
   "id": "55426a1b",
   "metadata": {},
   "outputs": [],
   "source": [
    "df.drop(columns=['Unnamed: 15','Unnamed: 16'],inplace=True)"
   ]
  },
  {
   "cell_type": "code",
   "execution_count": 4,
   "id": "dade5278",
   "metadata": {},
   "outputs": [],
   "source": [
    "df.drop(columns=['CAT. MEDV'],inplace=True)"
   ]
  },
  {
   "attachments": {},
   "cell_type": "markdown",
   "id": "17d566fe",
   "metadata": {},
   "source": [
    "#### Checking for null values"
   ]
  },
  {
   "cell_type": "code",
   "execution_count": 5,
   "id": "e4792737",
   "metadata": {},
   "outputs": [
    {
     "data": {
      "text/plain": [
       "CRIM       0\n",
       "ZN         0\n",
       "INDUS      0\n",
       "CHAS       0\n",
       "NOX        0\n",
       "RM         0\n",
       "AGE        0\n",
       "DIS        0\n",
       "RAD        0\n",
       "TAX        0\n",
       "PTRATIO    0\n",
       "B          0\n",
       "LSTAT      0\n",
       "MEDV       0\n",
       "dtype: int64"
      ]
     },
     "execution_count": 5,
     "metadata": {},
     "output_type": "execute_result"
    }
   ],
   "source": [
    "df.isnull().sum()"
   ]
  },
  {
   "cell_type": "code",
   "execution_count": 6,
   "id": "036b309e",
   "metadata": {},
   "outputs": [
    {
     "name": "stdout",
     "output_type": "stream",
     "text": [
      "<class 'pandas.core.frame.DataFrame'>\n",
      "RangeIndex: 506 entries, 0 to 505\n",
      "Data columns (total 14 columns):\n",
      " #   Column   Non-Null Count  Dtype  \n",
      "---  ------   --------------  -----  \n",
      " 0   CRIM     506 non-null    float64\n",
      " 1   ZN       506 non-null    float64\n",
      " 2   INDUS    506 non-null    float64\n",
      " 3   CHAS     506 non-null    int64  \n",
      " 4   NOX      506 non-null    float64\n",
      " 5   RM       506 non-null    float64\n",
      " 6   AGE      506 non-null    float64\n",
      " 7   DIS      506 non-null    float64\n",
      " 8   RAD      506 non-null    int64  \n",
      " 9   TAX      506 non-null    int64  \n",
      " 10  PTRATIO  506 non-null    float64\n",
      " 11  B        506 non-null    float64\n",
      " 12  LSTAT    506 non-null    float64\n",
      " 13  MEDV     506 non-null    float64\n",
      "dtypes: float64(11), int64(3)\n",
      "memory usage: 55.5 KB\n"
     ]
    }
   ],
   "source": [
    "df.info()"
   ]
  },
  {
   "cell_type": "code",
   "execution_count": 7,
   "id": "851ae670",
   "metadata": {},
   "outputs": [
    {
     "data": {
      "text/html": [
       "<div>\n",
       "<style scoped>\n",
       "    .dataframe tbody tr th:only-of-type {\n",
       "        vertical-align: middle;\n",
       "    }\n",
       "\n",
       "    .dataframe tbody tr th {\n",
       "        vertical-align: top;\n",
       "    }\n",
       "\n",
       "    .dataframe thead th {\n",
       "        text-align: right;\n",
       "    }\n",
       "</style>\n",
       "<table border=\"1\" class=\"dataframe\">\n",
       "  <thead>\n",
       "    <tr style=\"text-align: right;\">\n",
       "      <th></th>\n",
       "      <th>CRIM</th>\n",
       "      <th>ZN</th>\n",
       "      <th>INDUS</th>\n",
       "      <th>CHAS</th>\n",
       "      <th>NOX</th>\n",
       "      <th>RM</th>\n",
       "      <th>AGE</th>\n",
       "      <th>DIS</th>\n",
       "      <th>RAD</th>\n",
       "      <th>TAX</th>\n",
       "      <th>PTRATIO</th>\n",
       "      <th>B</th>\n",
       "      <th>LSTAT</th>\n",
       "      <th>MEDV</th>\n",
       "    </tr>\n",
       "  </thead>\n",
       "  <tbody>\n",
       "    <tr>\n",
       "      <th>count</th>\n",
       "      <td>506.000000</td>\n",
       "      <td>506.000000</td>\n",
       "      <td>506.000000</td>\n",
       "      <td>506.000000</td>\n",
       "      <td>506.000000</td>\n",
       "      <td>506.000000</td>\n",
       "      <td>506.000000</td>\n",
       "      <td>506.000000</td>\n",
       "      <td>506.000000</td>\n",
       "      <td>506.000000</td>\n",
       "      <td>506.000000</td>\n",
       "      <td>506.000000</td>\n",
       "      <td>506.000000</td>\n",
       "      <td>506.000000</td>\n",
       "    </tr>\n",
       "    <tr>\n",
       "      <th>mean</th>\n",
       "      <td>3.613524</td>\n",
       "      <td>11.363636</td>\n",
       "      <td>11.136779</td>\n",
       "      <td>0.069170</td>\n",
       "      <td>0.554695</td>\n",
       "      <td>6.284634</td>\n",
       "      <td>68.574901</td>\n",
       "      <td>3.795043</td>\n",
       "      <td>9.549407</td>\n",
       "      <td>408.237154</td>\n",
       "      <td>18.455534</td>\n",
       "      <td>356.674032</td>\n",
       "      <td>12.653063</td>\n",
       "      <td>22.532806</td>\n",
       "    </tr>\n",
       "    <tr>\n",
       "      <th>std</th>\n",
       "      <td>8.601545</td>\n",
       "      <td>23.322453</td>\n",
       "      <td>6.860353</td>\n",
       "      <td>0.253994</td>\n",
       "      <td>0.115878</td>\n",
       "      <td>0.702617</td>\n",
       "      <td>28.148861</td>\n",
       "      <td>2.105710</td>\n",
       "      <td>8.707259</td>\n",
       "      <td>168.537116</td>\n",
       "      <td>2.164946</td>\n",
       "      <td>91.294864</td>\n",
       "      <td>7.141062</td>\n",
       "      <td>9.197104</td>\n",
       "    </tr>\n",
       "    <tr>\n",
       "      <th>min</th>\n",
       "      <td>0.006320</td>\n",
       "      <td>0.000000</td>\n",
       "      <td>0.460000</td>\n",
       "      <td>0.000000</td>\n",
       "      <td>0.385000</td>\n",
       "      <td>3.561000</td>\n",
       "      <td>2.900000</td>\n",
       "      <td>1.129600</td>\n",
       "      <td>1.000000</td>\n",
       "      <td>187.000000</td>\n",
       "      <td>12.600000</td>\n",
       "      <td>0.320000</td>\n",
       "      <td>1.730000</td>\n",
       "      <td>5.000000</td>\n",
       "    </tr>\n",
       "    <tr>\n",
       "      <th>25%</th>\n",
       "      <td>0.082045</td>\n",
       "      <td>0.000000</td>\n",
       "      <td>5.190000</td>\n",
       "      <td>0.000000</td>\n",
       "      <td>0.449000</td>\n",
       "      <td>5.885500</td>\n",
       "      <td>45.025000</td>\n",
       "      <td>2.100175</td>\n",
       "      <td>4.000000</td>\n",
       "      <td>279.000000</td>\n",
       "      <td>17.400000</td>\n",
       "      <td>375.377500</td>\n",
       "      <td>6.950000</td>\n",
       "      <td>17.025000</td>\n",
       "    </tr>\n",
       "    <tr>\n",
       "      <th>50%</th>\n",
       "      <td>0.256510</td>\n",
       "      <td>0.000000</td>\n",
       "      <td>9.690000</td>\n",
       "      <td>0.000000</td>\n",
       "      <td>0.538000</td>\n",
       "      <td>6.208500</td>\n",
       "      <td>77.500000</td>\n",
       "      <td>3.207450</td>\n",
       "      <td>5.000000</td>\n",
       "      <td>330.000000</td>\n",
       "      <td>19.050000</td>\n",
       "      <td>391.440000</td>\n",
       "      <td>11.360000</td>\n",
       "      <td>21.200000</td>\n",
       "    </tr>\n",
       "    <tr>\n",
       "      <th>75%</th>\n",
       "      <td>3.677083</td>\n",
       "      <td>12.500000</td>\n",
       "      <td>18.100000</td>\n",
       "      <td>0.000000</td>\n",
       "      <td>0.624000</td>\n",
       "      <td>6.623500</td>\n",
       "      <td>94.075000</td>\n",
       "      <td>5.188425</td>\n",
       "      <td>24.000000</td>\n",
       "      <td>666.000000</td>\n",
       "      <td>20.200000</td>\n",
       "      <td>396.225000</td>\n",
       "      <td>16.955000</td>\n",
       "      <td>25.000000</td>\n",
       "    </tr>\n",
       "    <tr>\n",
       "      <th>max</th>\n",
       "      <td>88.976200</td>\n",
       "      <td>100.000000</td>\n",
       "      <td>27.740000</td>\n",
       "      <td>1.000000</td>\n",
       "      <td>0.871000</td>\n",
       "      <td>8.780000</td>\n",
       "      <td>100.000000</td>\n",
       "      <td>12.126500</td>\n",
       "      <td>24.000000</td>\n",
       "      <td>711.000000</td>\n",
       "      <td>22.000000</td>\n",
       "      <td>396.900000</td>\n",
       "      <td>37.970000</td>\n",
       "      <td>50.000000</td>\n",
       "    </tr>\n",
       "  </tbody>\n",
       "</table>\n",
       "</div>"
      ],
      "text/plain": [
       "             CRIM          ZN       INDUS        CHAS         NOX          RM  \\\n",
       "count  506.000000  506.000000  506.000000  506.000000  506.000000  506.000000   \n",
       "mean     3.613524   11.363636   11.136779    0.069170    0.554695    6.284634   \n",
       "std      8.601545   23.322453    6.860353    0.253994    0.115878    0.702617   \n",
       "min      0.006320    0.000000    0.460000    0.000000    0.385000    3.561000   \n",
       "25%      0.082045    0.000000    5.190000    0.000000    0.449000    5.885500   \n",
       "50%      0.256510    0.000000    9.690000    0.000000    0.538000    6.208500   \n",
       "75%      3.677083   12.500000   18.100000    0.000000    0.624000    6.623500   \n",
       "max     88.976200  100.000000   27.740000    1.000000    0.871000    8.780000   \n",
       "\n",
       "              AGE         DIS         RAD         TAX     PTRATIO           B  \\\n",
       "count  506.000000  506.000000  506.000000  506.000000  506.000000  506.000000   \n",
       "mean    68.574901    3.795043    9.549407  408.237154   18.455534  356.674032   \n",
       "std     28.148861    2.105710    8.707259  168.537116    2.164946   91.294864   \n",
       "min      2.900000    1.129600    1.000000  187.000000   12.600000    0.320000   \n",
       "25%     45.025000    2.100175    4.000000  279.000000   17.400000  375.377500   \n",
       "50%     77.500000    3.207450    5.000000  330.000000   19.050000  391.440000   \n",
       "75%     94.075000    5.188425   24.000000  666.000000   20.200000  396.225000   \n",
       "max    100.000000   12.126500   24.000000  711.000000   22.000000  396.900000   \n",
       "\n",
       "            LSTAT        MEDV  \n",
       "count  506.000000  506.000000  \n",
       "mean    12.653063   22.532806  \n",
       "std      7.141062    9.197104  \n",
       "min      1.730000    5.000000  \n",
       "25%      6.950000   17.025000  \n",
       "50%     11.360000   21.200000  \n",
       "75%     16.955000   25.000000  \n",
       "max     37.970000   50.000000  "
      ]
     },
     "execution_count": 7,
     "metadata": {},
     "output_type": "execute_result"
    }
   ],
   "source": [
    "df.describe()"
   ]
  },
  {
   "attachments": {},
   "cell_type": "markdown",
   "id": "44bc6735",
   "metadata": {},
   "source": [
    "#### Checking correlation with target variable MEDV"
   ]
  },
  {
   "cell_type": "code",
   "execution_count": 8,
   "id": "64ef4b15",
   "metadata": {},
   "outputs": [
    {
     "data": {
      "text/plain": [
       "LSTAT     -0.737663\n",
       "PTRATIO   -0.507787\n",
       "INDUS     -0.483725\n",
       "TAX       -0.468536\n",
       "NOX       -0.427321\n",
       "CRIM      -0.388305\n",
       "RAD       -0.381626\n",
       "AGE       -0.376955\n",
       "CHAS       0.175260\n",
       "DIS        0.249929\n",
       "B          0.333461\n",
       "ZN         0.360445\n",
       "RM         0.695360\n",
       "MEDV       1.000000\n",
       "Name: MEDV, dtype: float64"
      ]
     },
     "execution_count": 8,
     "metadata": {},
     "output_type": "execute_result"
    }
   ],
   "source": [
    "df.corr()['MEDV'].sort_values()"
   ]
  },
  {
   "cell_type": "code",
   "execution_count": 9,
   "id": "7168e688",
   "metadata": {},
   "outputs": [
    {
     "data": {
      "text/plain": [
       "((506, 3), (506,))"
      ]
     },
     "execution_count": 9,
     "metadata": {},
     "output_type": "execute_result"
    }
   ],
   "source": [
    "X = df.loc[:,['LSTAT','PTRATIO','RM']]\n",
    "Y = df.loc[:,\"MEDV\"]\n",
    "X.shape,Y.shape"
   ]
  },
  {
   "attachments": {},
   "cell_type": "markdown",
   "id": "08648c29",
   "metadata": {},
   "source": [
    "### Preparing training and testing data set"
   ]
  },
  {
   "cell_type": "code",
   "execution_count": 10,
   "id": "cecea370",
   "metadata": {},
   "outputs": [],
   "source": [
    "from sklearn.model_selection import train_test_split\n",
    "x_train,x_test,y_train,y_test = train_test_split(X,Y,test_size=0.25,random_state=10)"
   ]
  },
  {
   "attachments": {},
   "cell_type": "markdown",
   "id": "7eabb9f2",
   "metadata": {},
   "source": [
    "### Normalizing training and testing dataset"
   ]
  },
  {
   "cell_type": "code",
   "execution_count": 11,
   "id": "926fe0ce",
   "metadata": {},
   "outputs": [],
   "source": [
    "from sklearn.preprocessing import StandardScaler"
   ]
  },
  {
   "cell_type": "code",
   "execution_count": 12,
   "id": "1e49c4a2",
   "metadata": {},
   "outputs": [],
   "source": [
    "scaler = StandardScaler()"
   ]
  },
  {
   "cell_type": "code",
   "execution_count": 13,
   "id": "b99b26de",
   "metadata": {},
   "outputs": [
    {
     "data": {
      "text/plain": [
       "StandardScaler()"
      ]
     },
     "execution_count": 13,
     "metadata": {},
     "output_type": "execute_result"
    }
   ],
   "source": [
    "scaler.fit(x_train)"
   ]
  },
  {
   "cell_type": "code",
   "execution_count": 14,
   "id": "eece8526",
   "metadata": {},
   "outputs": [],
   "source": [
    "x_train = scaler.transform(x_train)\n",
    "x_test = scaler.transform(x_test)"
   ]
  },
  {
   "attachments": {},
   "cell_type": "markdown",
   "id": "a1ed18cc",
   "metadata": {},
   "source": [
    "### Preparing model"
   ]
  },
  {
   "cell_type": "code",
   "execution_count": 15,
   "id": "1243c6f8",
   "metadata": {},
   "outputs": [],
   "source": [
    "from keras.models import Sequential\n",
    "from keras.layers import Dense"
   ]
  },
  {
   "cell_type": "code",
   "execution_count": 16,
   "id": "e7dad931",
   "metadata": {},
   "outputs": [],
   "source": [
    "model = Sequential()"
   ]
  },
  {
   "cell_type": "code",
   "execution_count": 17,
   "id": "0baf27a9",
   "metadata": {},
   "outputs": [
    {
     "name": "stdout",
     "output_type": "stream",
     "text": [
      "Model: \"sequential\"\n",
      "_________________________________________________________________\n",
      "Layer (type)                 Output Shape              Param #   \n",
      "=================================================================\n",
      "input (Dense)                (None, 128)               512       \n",
      "_________________________________________________________________\n",
      "layer_1 (Dense)              (None, 64)                8256      \n",
      "_________________________________________________________________\n",
      "output (Dense)               (None, 1)                 65        \n",
      "=================================================================\n",
      "Total params: 8,833\n",
      "Trainable params: 8,833\n",
      "Non-trainable params: 0\n",
      "_________________________________________________________________\n"
     ]
    }
   ],
   "source": [
    "model.add(Dense(128,input_shape=(3,),activation='relu',name='input'))\n",
    "model.add(Dense(64,activation='relu',name='layer_1'))\n",
    "model.add(Dense(1,activation='linear',name='output'))\n",
    "model.compile(optimizer='adam', loss='mse', metrics=['mae'])\n",
    "model.summary()"
   ]
  },
  {
   "cell_type": "code",
   "execution_count": 18,
   "id": "4b51358b",
   "metadata": {},
   "outputs": [
    {
     "name": "stdout",
     "output_type": "stream",
     "text": [
      "Epoch 1/100\n",
      "12/12 [==============================] - 3s 34ms/step - loss: 536.9119 - mae: 21.5252 - val_loss: 708.7929 - val_mae: 23.9268\n",
      "Epoch 2/100\n",
      "12/12 [==============================] - 0s 9ms/step - loss: 506.6347 - mae: 20.8593 - val_loss: 670.1580 - val_mae: 23.0986\n",
      "Epoch 3/100\n",
      "12/12 [==============================] - 0s 8ms/step - loss: 464.6184 - mae: 19.8969 - val_loss: 612.7797 - val_mae: 21.8221\n",
      "Epoch 4/100\n",
      "12/12 [==============================] - 0s 9ms/step - loss: 401.4194 - mae: 18.3760 - val_loss: 533.8821 - val_mae: 19.9377\n",
      "Epoch 5/100\n",
      "12/12 [==============================] - 0s 10ms/step - loss: 319.7099 - mae: 16.1917 - val_loss: 433.4165 - val_mae: 17.5865\n",
      "Epoch 6/100\n",
      "12/12 [==============================] - 0s 11ms/step - loss: 220.2136 - mae: 13.3890 - val_loss: 326.4468 - val_mae: 14.6544\n",
      "Epoch 7/100\n",
      "12/12 [==============================] - 0s 11ms/step - loss: 126.7271 - mae: 10.0407 - val_loss: 232.2309 - val_mae: 11.7061\n",
      "Epoch 8/100\n",
      "12/12 [==============================] - 0s 11ms/step - loss: 67.0701 - mae: 6.9799 - val_loss: 166.1843 - val_mae: 9.6402\n",
      "Epoch 9/100\n",
      "12/12 [==============================] - 0s 10ms/step - loss: 45.5207 - mae: 5.3816 - val_loss: 131.9316 - val_mae: 8.0490\n",
      "Epoch 10/100\n",
      "12/12 [==============================] - 0s 17ms/step - loss: 37.9183 - mae: 4.7645 - val_loss: 119.7460 - val_mae: 7.5686\n",
      "Epoch 11/100\n",
      "12/12 [==============================] - 0s 9ms/step - loss: 32.3305 - mae: 4.2768 - val_loss: 110.3386 - val_mae: 7.3364\n",
      "Epoch 12/100\n",
      "12/12 [==============================] - 0s 11ms/step - loss: 28.5053 - mae: 3.9450 - val_loss: 103.4097 - val_mae: 7.1059\n",
      "Epoch 13/100\n",
      "12/12 [==============================] - 0s 10ms/step - loss: 26.1093 - mae: 3.7583 - val_loss: 98.7518 - val_mae: 6.9432\n",
      "Epoch 14/100\n",
      "12/12 [==============================] - 0s 11ms/step - loss: 24.5928 - mae: 3.6550 - val_loss: 96.1833 - val_mae: 6.8401\n",
      "Epoch 15/100\n",
      "12/12 [==============================] - 0s 9ms/step - loss: 23.5219 - mae: 3.5634 - val_loss: 92.5727 - val_mae: 6.7415\n",
      "Epoch 16/100\n",
      "12/12 [==============================] - 0s 9ms/step - loss: 22.7220 - mae: 3.4788 - val_loss: 89.4070 - val_mae: 6.6431\n",
      "Epoch 17/100\n",
      "12/12 [==============================] - 0s 10ms/step - loss: 22.1593 - mae: 3.4277 - val_loss: 87.9373 - val_mae: 6.6056\n",
      "Epoch 18/100\n",
      "12/12 [==============================] - 0s 11ms/step - loss: 21.6371 - mae: 3.3817 - val_loss: 88.0913 - val_mae: 6.5597\n",
      "Epoch 19/100\n",
      "12/12 [==============================] - 0s 10ms/step - loss: 21.1361 - mae: 3.3396 - val_loss: 87.2328 - val_mae: 6.5153\n",
      "Epoch 20/100\n",
      "12/12 [==============================] - 0s 11ms/step - loss: 20.6987 - mae: 3.3157 - val_loss: 86.7371 - val_mae: 6.4689\n",
      "Epoch 21/100\n",
      "12/12 [==============================] - 0s 10ms/step - loss: 20.2822 - mae: 3.2811 - val_loss: 86.9838 - val_mae: 6.4438\n",
      "Epoch 22/100\n",
      "12/12 [==============================] - 0s 10ms/step - loss: 19.8831 - mae: 3.2474 - val_loss: 86.1458 - val_mae: 6.3829\n",
      "Epoch 23/100\n",
      "12/12 [==============================] - 0s 9ms/step - loss: 19.4305 - mae: 3.2150 - val_loss: 84.8107 - val_mae: 6.3218\n",
      "Epoch 24/100\n",
      "12/12 [==============================] - 0s 10ms/step - loss: 19.1237 - mae: 3.1990 - val_loss: 83.7404 - val_mae: 6.2523\n",
      "Epoch 25/100\n",
      "12/12 [==============================] - 0s 11ms/step - loss: 18.7770 - mae: 3.1529 - val_loss: 86.1986 - val_mae: 6.2958\n",
      "Epoch 26/100\n",
      "12/12 [==============================] - 0s 11ms/step - loss: 18.4307 - mae: 3.1215 - val_loss: 84.7429 - val_mae: 6.2337\n",
      "Epoch 27/100\n",
      "12/12 [==============================] - 0s 10ms/step - loss: 18.2009 - mae: 3.1152 - val_loss: 83.9301 - val_mae: 6.1595\n",
      "Epoch 28/100\n",
      "12/12 [==============================] - 0s 10ms/step - loss: 17.8500 - mae: 3.0789 - val_loss: 84.3315 - val_mae: 6.1478\n",
      "Epoch 29/100\n",
      "12/12 [==============================] - 0s 10ms/step - loss: 17.6553 - mae: 3.0579 - val_loss: 84.3887 - val_mae: 6.1163\n",
      "Epoch 30/100\n",
      "12/12 [==============================] - 0s 9ms/step - loss: 17.3869 - mae: 3.0355 - val_loss: 82.7813 - val_mae: 6.0428\n",
      "Epoch 31/100\n",
      "12/12 [==============================] - 0s 11ms/step - loss: 17.1659 - mae: 3.0232 - val_loss: 82.3837 - val_mae: 5.9710\n",
      "Epoch 32/100\n",
      "12/12 [==============================] - 0s 11ms/step - loss: 16.9776 - mae: 2.9989 - val_loss: 83.8319 - val_mae: 5.9964\n",
      "Epoch 33/100\n",
      "12/12 [==============================] - 0s 11ms/step - loss: 16.7208 - mae: 2.9758 - val_loss: 82.7964 - val_mae: 5.9417\n",
      "Epoch 34/100\n",
      "12/12 [==============================] - 0s 9ms/step - loss: 16.6952 - mae: 2.9793 - val_loss: 80.9499 - val_mae: 5.8651\n",
      "Epoch 35/100\n",
      "12/12 [==============================] - 0s 10ms/step - loss: 16.4615 - mae: 2.9730 - val_loss: 87.0309 - val_mae: 6.0897\n",
      "Epoch 36/100\n",
      "12/12 [==============================] - 0s 10ms/step - loss: 16.2866 - mae: 2.9513 - val_loss: 84.3658 - val_mae: 5.9483\n",
      "Epoch 37/100\n",
      "12/12 [==============================] - 0s 11ms/step - loss: 15.9702 - mae: 2.9162 - val_loss: 83.5052 - val_mae: 5.9269\n",
      "Epoch 38/100\n",
      "12/12 [==============================] - 0s 10ms/step - loss: 15.8046 - mae: 2.9035 - val_loss: 82.3781 - val_mae: 5.8572\n",
      "Epoch 39/100\n",
      "12/12 [==============================] - 0s 12ms/step - loss: 15.7345 - mae: 2.8977 - val_loss: 80.8349 - val_mae: 5.7905\n",
      "Epoch 40/100\n",
      "12/12 [==============================] - 0s 17ms/step - loss: 15.5563 - mae: 2.8785 - val_loss: 83.1638 - val_mae: 5.8325\n",
      "Epoch 41/100\n",
      "12/12 [==============================] - 0s 10ms/step - loss: 15.4022 - mae: 2.8549 - val_loss: 81.4435 - val_mae: 5.7753\n",
      "Epoch 42/100\n",
      "12/12 [==============================] - 0s 9ms/step - loss: 15.1949 - mae: 2.8316 - val_loss: 81.6204 - val_mae: 5.7553\n",
      "Epoch 43/100\n",
      "12/12 [==============================] - 0s 12ms/step - loss: 15.1432 - mae: 2.8100 - val_loss: 82.9271 - val_mae: 5.7650\n",
      "Epoch 44/100\n",
      "12/12 [==============================] - 0s 14ms/step - loss: 15.0379 - mae: 2.8023 - val_loss: 82.2618 - val_mae: 5.7361\n",
      "Epoch 45/100\n",
      "12/12 [==============================] - 0s 14ms/step - loss: 14.9163 - mae: 2.8025 - val_loss: 80.0543 - val_mae: 5.6337\n",
      "Epoch 46/100\n",
      "12/12 [==============================] - 0s 11ms/step - loss: 14.8862 - mae: 2.7899 - val_loss: 82.2694 - val_mae: 5.6834\n",
      "Epoch 47/100\n",
      "12/12 [==============================] - 0s 10ms/step - loss: 14.7075 - mae: 2.7678 - val_loss: 81.0108 - val_mae: 5.6213\n",
      "Epoch 48/100\n",
      "12/12 [==============================] - 0s 9ms/step - loss: 14.6162 - mae: 2.7751 - val_loss: 80.6755 - val_mae: 5.5904\n",
      "Epoch 49/100\n",
      "12/12 [==============================] - 0s 12ms/step - loss: 14.5198 - mae: 2.7473 - val_loss: 81.2763 - val_mae: 5.5931\n",
      "Epoch 50/100\n",
      "12/12 [==============================] - 0s 11ms/step - loss: 14.3810 - mae: 2.7355 - val_loss: 81.8676 - val_mae: 5.6127\n",
      "Epoch 51/100\n",
      "12/12 [==============================] - 0s 10ms/step - loss: 14.2860 - mae: 2.7203 - val_loss: 81.0438 - val_mae: 5.5789\n",
      "Epoch 52/100\n",
      "12/12 [==============================] - 0s 10ms/step - loss: 14.2538 - mae: 2.7324 - val_loss: 79.4859 - val_mae: 5.5458\n",
      "Epoch 53/100\n",
      "12/12 [==============================] - 0s 9ms/step - loss: 14.0986 - mae: 2.7141 - val_loss: 82.1610 - val_mae: 5.6069\n",
      "Epoch 54/100\n",
      "12/12 [==============================] - 0s 10ms/step - loss: 14.0573 - mae: 2.6941 - val_loss: 82.3811 - val_mae: 5.5887\n",
      "Epoch 55/100\n",
      "12/12 [==============================] - 0s 11ms/step - loss: 13.8770 - mae: 2.6776 - val_loss: 81.4976 - val_mae: 5.5531\n",
      "Epoch 56/100\n",
      "12/12 [==============================] - 0s 11ms/step - loss: 13.7847 - mae: 2.6882 - val_loss: 80.9352 - val_mae: 5.5397\n",
      "Epoch 57/100\n",
      "12/12 [==============================] - 0s 12ms/step - loss: 13.6819 - mae: 2.6917 - val_loss: 81.1953 - val_mae: 5.5355\n",
      "Epoch 58/100\n",
      "12/12 [==============================] - 0s 9ms/step - loss: 13.6475 - mae: 2.6749 - val_loss: 82.2211 - val_mae: 5.5353\n",
      "Epoch 59/100\n",
      "12/12 [==============================] - 0s 10ms/step - loss: 13.5342 - mae: 2.6340 - val_loss: 83.3646 - val_mae: 5.5217\n",
      "Epoch 60/100\n",
      "12/12 [==============================] - 0s 10ms/step - loss: 13.5145 - mae: 2.6413 - val_loss: 81.2299 - val_mae: 5.4887\n",
      "Epoch 61/100\n",
      "12/12 [==============================] - 0s 11ms/step - loss: 13.3468 - mae: 2.6402 - val_loss: 82.2640 - val_mae: 5.5074\n",
      "Epoch 62/100\n",
      "12/12 [==============================] - 0s 10ms/step - loss: 13.3344 - mae: 2.6275 - val_loss: 80.6078 - val_mae: 5.4715\n",
      "Epoch 63/100\n",
      "12/12 [==============================] - 0s 12ms/step - loss: 13.2250 - mae: 2.6153 - val_loss: 80.9237 - val_mae: 5.4482\n",
      "Epoch 64/100\n",
      "12/12 [==============================] - 0s 9ms/step - loss: 13.1109 - mae: 2.6085 - val_loss: 81.8915 - val_mae: 5.4694\n",
      "Epoch 65/100\n",
      "12/12 [==============================] - 0s 9ms/step - loss: 13.0649 - mae: 2.5991 - val_loss: 81.1716 - val_mae: 5.4391\n",
      "Epoch 66/100\n",
      "12/12 [==============================] - 0s 10ms/step - loss: 12.9975 - mae: 2.5887 - val_loss: 82.0791 - val_mae: 5.4673\n",
      "Epoch 67/100\n",
      "12/12 [==============================] - 0s 10ms/step - loss: 12.8995 - mae: 2.5857 - val_loss: 80.2052 - val_mae: 5.3971\n",
      "Epoch 68/100\n",
      "12/12 [==============================] - 0s 11ms/step - loss: 12.9611 - mae: 2.5984 - val_loss: 82.4292 - val_mae: 5.4431\n",
      "Epoch 69/100\n",
      "12/12 [==============================] - 0s 11ms/step - loss: 12.7787 - mae: 2.5690 - val_loss: 82.7188 - val_mae: 5.4538\n",
      "Epoch 70/100\n",
      "12/12 [==============================] - 0s 10ms/step - loss: 12.8336 - mae: 2.5714 - val_loss: 80.5398 - val_mae: 5.3975\n",
      "Epoch 71/100\n",
      "12/12 [==============================] - 0s 9ms/step - loss: 12.6795 - mae: 2.5360 - val_loss: 84.0813 - val_mae: 5.4462\n",
      "Epoch 72/100\n",
      "12/12 [==============================] - 0s 9ms/step - loss: 12.6820 - mae: 2.5642 - val_loss: 81.2819 - val_mae: 5.3976\n",
      "Epoch 73/100\n",
      "12/12 [==============================] - 0s 10ms/step - loss: 12.6018 - mae: 2.5431 - val_loss: 83.9920 - val_mae: 5.4398\n",
      "Epoch 74/100\n",
      "12/12 [==============================] - 0s 10ms/step - loss: 12.6155 - mae: 2.5399 - val_loss: 81.8450 - val_mae: 5.4175\n",
      "Epoch 75/100\n",
      "12/12 [==============================] - 0s 18ms/step - loss: 12.5181 - mae: 2.5365 - val_loss: 83.3358 - val_mae: 5.4461\n",
      "Epoch 76/100\n",
      "12/12 [==============================] - 0s 11ms/step - loss: 12.4204 - mae: 2.5400 - val_loss: 81.2378 - val_mae: 5.3943\n",
      "Epoch 77/100\n",
      "12/12 [==============================] - 0s 11ms/step - loss: 12.3524 - mae: 2.5279 - val_loss: 82.7431 - val_mae: 5.4531\n",
      "Epoch 78/100\n",
      "12/12 [==============================] - 0s 8ms/step - loss: 12.3500 - mae: 2.5192 - val_loss: 80.3944 - val_mae: 5.3743\n",
      "Epoch 79/100\n",
      "12/12 [==============================] - 0s 9ms/step - loss: 12.3262 - mae: 2.5177 - val_loss: 82.4832 - val_mae: 5.3604\n",
      "Epoch 80/100\n",
      "12/12 [==============================] - 0s 10ms/step - loss: 12.3099 - mae: 2.5243 - val_loss: 84.3642 - val_mae: 5.4256\n",
      "Epoch 81/100\n",
      "12/12 [==============================] - 0s 10ms/step - loss: 12.1064 - mae: 2.5017 - val_loss: 81.3172 - val_mae: 5.3549\n",
      "Epoch 82/100\n",
      "12/12 [==============================] - 0s 15ms/step - loss: 12.1883 - mae: 2.5018 - val_loss: 82.9373 - val_mae: 5.3670\n",
      "Epoch 83/100\n",
      "12/12 [==============================] - 0s 18ms/step - loss: 12.1397 - mae: 2.4874 - val_loss: 82.5687 - val_mae: 5.3436\n",
      "Epoch 84/100\n",
      "12/12 [==============================] - 0s 22ms/step - loss: 11.9947 - mae: 2.4838 - val_loss: 82.3279 - val_mae: 5.3515\n",
      "Epoch 85/100\n",
      "12/12 [==============================] - 0s 9ms/step - loss: 11.9446 - mae: 2.4784 - val_loss: 82.4121 - val_mae: 5.3507\n",
      "Epoch 86/100\n",
      "12/12 [==============================] - 0s 10ms/step - loss: 12.0458 - mae: 2.4774 - val_loss: 84.1001 - val_mae: 5.3696\n",
      "Epoch 87/100\n",
      "12/12 [==============================] - 0s 9ms/step - loss: 11.9086 - mae: 2.4805 - val_loss: 83.0791 - val_mae: 5.3641\n",
      "Epoch 88/100\n",
      "12/12 [==============================] - 0s 10ms/step - loss: 11.8244 - mae: 2.4693 - val_loss: 83.1006 - val_mae: 5.3630\n",
      "Epoch 89/100\n",
      "12/12 [==============================] - 0s 11ms/step - loss: 11.8378 - mae: 2.4744 - val_loss: 82.0796 - val_mae: 5.3557\n",
      "Epoch 90/100\n",
      "12/12 [==============================] - 0s 10ms/step - loss: 11.7204 - mae: 2.4624 - val_loss: 83.0760 - val_mae: 5.3383\n",
      "Epoch 91/100\n",
      "12/12 [==============================] - 0s 8ms/step - loss: 11.7320 - mae: 2.4712 - val_loss: 82.7208 - val_mae: 5.3348\n",
      "Epoch 92/100\n",
      "12/12 [==============================] - 0s 9ms/step - loss: 11.6813 - mae: 2.4509 - val_loss: 81.8117 - val_mae: 5.2786\n",
      "Epoch 93/100\n",
      "12/12 [==============================] - 0s 9ms/step - loss: 11.9541 - mae: 2.4872 - val_loss: 84.5646 - val_mae: 5.3517\n",
      "Epoch 94/100\n",
      "12/12 [==============================] - 0s 11ms/step - loss: 11.6664 - mae: 2.4524 - val_loss: 81.7417 - val_mae: 5.3082\n",
      "Epoch 95/100\n",
      "12/12 [==============================] - 0s 11ms/step - loss: 11.5783 - mae: 2.4456 - val_loss: 83.5315 - val_mae: 5.3525\n",
      "Epoch 96/100\n",
      "12/12 [==============================] - 0s 10ms/step - loss: 11.5606 - mae: 2.4472 - val_loss: 82.0334 - val_mae: 5.2796\n",
      "Epoch 97/100\n",
      "12/12 [==============================] - 0s 9ms/step - loss: 11.4392 - mae: 2.4333 - val_loss: 83.4844 - val_mae: 5.3336\n",
      "Epoch 98/100\n",
      "12/12 [==============================] - 0s 8ms/step - loss: 11.4766 - mae: 2.4408 - val_loss: 84.0572 - val_mae: 5.3194\n",
      "Epoch 99/100\n",
      "12/12 [==============================] - 0s 9ms/step - loss: 11.4149 - mae: 2.4249 - val_loss: 82.1840 - val_mae: 5.2840\n",
      "Epoch 100/100\n",
      "12/12 [==============================] - 0s 11ms/step - loss: 11.4579 - mae: 2.4322 - val_loss: 84.3641 - val_mae: 5.3397\n"
     ]
    },
    {
     "data": {
      "text/plain": [
       "<keras.callbacks.History at 0x143cb8e1f40>"
      ]
     },
     "execution_count": 18,
     "metadata": {},
     "output_type": "execute_result"
    }
   ],
   "source": [
    "model.fit(x_train,y_train,epochs=100,validation_split=0.05)"
   ]
  },
  {
   "cell_type": "code",
   "execution_count": 19,
   "id": "e2afb08a",
   "metadata": {},
   "outputs": [
    {
     "name": "stdout",
     "output_type": "stream",
     "text": [
      "4/4 [==============================] - 0s 4ms/step - loss: 23.5430 - mae: 3.1959\n"
     ]
    }
   ],
   "source": [
    "output = model.evaluate(x_test,y_test)"
   ]
  },
  {
   "cell_type": "code",
   "execution_count": 20,
   "id": "b7bf34bd",
   "metadata": {},
   "outputs": [
    {
     "name": "stdout",
     "output_type": "stream",
     "text": [
      "Mean Squared Error: 23.54298973083496\n",
      "Mean Absolute Error: 3.1958835124969482\n"
     ]
    }
   ],
   "source": [
    "print(f\"Mean Squared Error: {output[0]}\"\n",
    "      ,f\"Mean Absolute Error: {output[1]}\",sep=\"\\n\")"
   ]
  },
  {
   "cell_type": "code",
   "execution_count": 21,
   "id": "85333e40",
   "metadata": {},
   "outputs": [],
   "source": [
    "y_pred = model.predict(x=x_test)"
   ]
  },
  {
   "cell_type": "code",
   "execution_count": 24,
   "id": "cd649021",
   "metadata": {},
   "outputs": [
    {
     "name": "stdout",
     "output_type": "stream",
     "text": [
      "MAE: 3.1958835211325827\n",
      "MSE: 23.542990276626664\n",
      "RMSE: 4.852111939828538\n"
     ]
    }
   ],
   "source": [
    "from numpy import sqrt\n",
    "from sklearn import metrics\n",
    "print(\"MAE:\", metrics.mean_absolute_error(y_test, y_pred))\n",
    "mse = metrics.mean_squared_error(y_test, y_pred)\n",
    "print(\"MSE:\", mse)\n",
    "print(\"RMSE:\", sqrt(mse))"
   ]
  },
  {
   "cell_type": "code",
   "execution_count": 22,
   "id": "4be4c127",
   "metadata": {},
   "outputs": [
    {
     "name": "stdout",
     "output_type": "stream",
     "text": [
      "(array([24.50889], dtype=float32), 28.4) (array([30.67893], dtype=float32), 31.1) (array([26.587027], dtype=float32), 23.5) (array([27.474142], dtype=float32), 26.6) (array([20.352718], dtype=float32), 19.6) (array([16.631237], dtype=float32), 14.3) (array([41.65816], dtype=float32), 50.0) (array([15.008295], dtype=float32), 14.3) (array([18.842829], dtype=float32), 20.7) (array([42.267498], dtype=float32), 37.6) (array([17.973097], dtype=float32), 20.4) (array([26.019894], dtype=float32), 27.5) (array([22.167145], dtype=float32), 36.2) (array([31.752937], dtype=float32), 32.0) (array([30.495125], dtype=float32), 33.1) (array([51.435547], dtype=float32), 48.8) (array([26.033995], dtype=float32), 24.6) (array([18.896513], dtype=float32), 26.4) (array([21.307852], dtype=float32), 23.2) (array([19.92942], dtype=float32), 17.0) (array([33.58352], dtype=float32), 41.3) (array([15.427549], dtype=float32), 14.9) (array([21.853535], dtype=float32), 18.5) (array([25.124653], dtype=float32), 25.0) (array([36.669178], dtype=float32), 36.4) (array([20.899542], dtype=float32), 19.5) (array([18.186796], dtype=float32), 27.1) (array([16.56452], dtype=float32), 14.9) (array([42.171875], dtype=float32), 46.0) (array([11.115819], dtype=float32), 17.9) (array([35.863945], dtype=float32), 30.3) (array([31.464567], dtype=float32), 31.6) (array([26.116346], dtype=float32), 23.1) (array([23.905958], dtype=float32), 24.7) (array([14.904614], dtype=float32), 16.7) (array([19.117325], dtype=float32), 18.3) (array([8.847647], dtype=float32), 8.4) (array([31.810911], dtype=float32), 37.3) (array([24.674303], dtype=float32), 22.1) (array([24.094982], dtype=float32), 22.0) (array([38.279465], dtype=float32), 46.7) (array([25.900915], dtype=float32), 30.1) (array([13.343756], dtype=float32), 12.1) (array([29.447302], dtype=float32), 29.1) (array([16.273186], dtype=float32), 16.6) (array([26.804773], dtype=float32), 23.9) (array([17.826235], dtype=float32), 19.9) (array([18.51857], dtype=float32), 21.4) (array([43.58258], dtype=float32), 45.4) (array([16.381247], dtype=float32), 15.6) (array([20.897802], dtype=float32), 22.7) (array([14.090023], dtype=float32), 12.5) (array([20.08357], dtype=float32), 24.3) (array([38.573586], dtype=float32), 43.8) (array([24.367785], dtype=float32), 22.0) (array([35.584076], dtype=float32), 33.8) (array([18.793041], dtype=float32), 19.3) (array([18.780941], dtype=float32), 22.6) (array([22.465727], dtype=float32), 16.1) (array([22.266232], dtype=float32), 15.0) (array([18.979803], dtype=float32), 19.6) (array([20.384026], dtype=float32), 21.2) (array([50.35974], dtype=float32), 50.0) (array([55.38697], dtype=float32), 50.0) (array([27.64229], dtype=float32), 29.4) (array([15.183524], dtype=float32), 17.8) (array([24.853018], dtype=float32), 22.8) (array([12.642972], dtype=float32), 8.8) (array([27.052874], dtype=float32), 32.5) (array([39.434765], dtype=float32), 42.8) (array([16.475613], dtype=float32), 12.6) (array([28.18263], dtype=float32), 28.6) (array([17.470072], dtype=float32), 19.1) (array([21.494368], dtype=float32), 50.0) (array([21.785742], dtype=float32), 27.5) (array([11.155295], dtype=float32), 23.7) (array([47.378773], dtype=float32), 50.0) (array([9.85579], dtype=float32), 7.2) (array([19.426968], dtype=float32), 18.7) (array([32.61445], dtype=float32), 37.0) (array([20.272297], dtype=float32), 22.9) (array([25.33742], dtype=float32), 22.9) (array([19.420008], dtype=float32), 17.1) (array([24.600477], dtype=float32), 22.0) (array([30.739552], dtype=float32), 23.6) (array([25.907715], dtype=float32), 23.9) (array([26.121077], dtype=float32), 27.1) (array([34.407696], dtype=float32), 29.0) (array([24.37855], dtype=float32), 22.2) (array([11.2508335], dtype=float32), 7.0) (array([23.475325], dtype=float32), 20.7) (array([20.349178], dtype=float32), 18.5) (array([23.46029], dtype=float32), 21.6) (array([24.798521], dtype=float32), 23.0) (array([18.274847], dtype=float32), 16.0) (array([18.850498], dtype=float32), 15.0) (array([25.772444], dtype=float32), 23.9) (array([18.32278], dtype=float32), 24.4) (array([21.300446], dtype=float32), 22.6) (array([18.937729], dtype=float32), 19.8) (array([21.657877], dtype=float32), 22.2) (array([19.976318], dtype=float32), 18.6) (array([19.051218], dtype=float32), 19.7) (array([25.222225], dtype=float32), 23.1) (array([13.56015], dtype=float32), 13.5) (array([20.423254], dtype=float32), 21.2) (array([18.549196], dtype=float32), 23.1) (array([14.975489], dtype=float32), 13.6) (array([28.391012], dtype=float32), 22.8) (array([23.707186], dtype=float32), 18.2) (array([11.216852], dtype=float32), 13.1) (array([17.866192], dtype=float32), 23.2) (array([24.322906], dtype=float32), 22.8) (array([24.334543], dtype=float32), 25.1) (array([21.525148], dtype=float32), 18.9) (array([13.156357], dtype=float32), 10.9) (array([13.642385], dtype=float32), 19.3) (array([19.72641], dtype=float32), 17.4) (array([18.720743], dtype=float32), 15.6) (array([19.83005], dtype=float32), 20.6) (array([29.699928], dtype=float32), 50.0) (array([35.004185], dtype=float32), 32.7) (array([20.183882], dtype=float32), 21.8) (array([16.83402], dtype=float32), 13.4) (array([17.547173], dtype=float32), 16.6) (array([23.528425], dtype=float32), 23.6) (array([12.2112], dtype=float32), 11.0)\n"
     ]
    }
   ],
   "source": [
    "print(*zip(y_pred,y_test))"
   ]
  },
  {
   "cell_type": "code",
   "execution_count": 23,
   "id": "fbaee296",
   "metadata": {},
   "outputs": [
    {
     "data": {
      "text/plain": [
       "<matplotlib.collections.PathCollection at 0x143e1df7fd0>"
      ]
     },
     "execution_count": 23,
     "metadata": {},
     "output_type": "execute_result"
    },
    {
     "data": {
      "image/png": "[encoded data removed]",
      "text/plain": [
       "<Figure size 432x288 with 1 Axes>"
      ]
     },
     "metadata": {
      "needs_background": "light"
     },
     "output_type": "display_data"
    }
   ],
   "source": [
    "plt.scatter(y_test, y_pred)"
   ]
  },
  {
   "cell_type": "code",
   "execution_count": null,
   "id": "84274847",
   "metadata": {},
   "outputs": [],
   "source": []
  }
 ],
 "metadata": {
  "kernelspec": {
   "display_name": "Python 3 (ipykernel)",
   "language": "python",
   "name": "python3"
  },
  "language_info": {
   "codemirror_mode": {
    "name": "ipython",
    "version": 3
   },
   "file_extension": ".py",
   "mimetype": "text/x-python",
   "name": "python",
   "nbconvert_exporter": "python",
   "pygments_lexer": "ipython3",
   "version": "3.9.7"
  }
 },
 "nbformat": 4,
 "nbformat_minor": 5
}
