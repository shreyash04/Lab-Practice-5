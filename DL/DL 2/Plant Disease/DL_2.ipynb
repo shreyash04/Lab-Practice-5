{
 "cells": [
  {
   "cell_type": "code",
   "execution_count": 1,
   "metadata": {},
   "outputs": [],
   "source": [
    "import matplotlib.pyplot as plt\n",
    "%matplotlib inline\n",
    "import pandas as pd\n",
    "import numpy as np\n",
    "import PIL\n",
    "from PIL import Image\n",
    "from skimage.color import rgb2gray\n",
    "from scipy import ndimage as ndi\n",
    "import cv2\n",
    "import os\n",
    "from os import listdir\n",
    "from sklearn.utils import shuffle\n",
    "import tensorflow as tf\n",
    "import keras\n",
    "from keras.models import Sequential, load_model\n",
    "from keras.layers import Dense, Activation, Conv2D, MaxPooling2D, Flatten, Dropout, BatchNormalization\n",
    "from keras import regularizers\n",
    "from keras.callbacks import ModelCheckpoint\n",
    "from sklearn.metrics import classification_report, confusion_matrix, ConfusionMatrixDisplay"
   ]
  },
  {
   "cell_type": "code",
   "execution_count": 2,
   "metadata": {},
   "outputs": [
    {
     "name": "stdout",
     "output_type": "stream",
     "text": [
      "11\n"
     ]
    }
   ],
   "source": [
    "directory_root = \"PlantVillage/\"\n",
    "print(len(listdir(directory_root)))"
   ]
  },
  {
   "cell_type": "code",
   "execution_count": 3,
   "metadata": {},
   "outputs": [
    {
     "name": "stdout",
     "output_type": "stream",
     "text": [
      "[INFO] Loading images ...\n",
      "[INFO] Image loading completed\n"
     ]
    }
   ],
   "source": [
    "image_list, label_list = [], []\n",
    "try:\n",
    "    print(\"[INFO] Loading images ...\")\n",
    "    root_dir = listdir(directory_root)\n",
    "    for plant_folder in root_dir :\n",
    "        plant_disease_folder_list = listdir(f\"{directory_root}/{plant_folder}\")\n",
    "        for image in plant_disease_folder_list:\n",
    "            image_directory = f\"{directory_root}/{plant_folder}/{image}\"\n",
    "            if image_directory.endswith(\".jpg\") == True or image_directory.endswith(\".JPG\") == True:\n",
    "                image_list.append(image_directory)\n",
    "                label_list.append(plant_folder)\n",
    "    print(\"[INFO] Image loading completed\")  \n",
    "except Exception as e:\n",
    "    print(f\"Error : {e}\")"
   ]
  },
  {
   "cell_type": "code",
   "execution_count": 4,
   "metadata": {},
   "outputs": [
    {
     "name": "stdout",
     "output_type": "stream",
     "text": [
      "                                          image_path  \\\n",
      "0  PlantVillage//Pepper__bell___Bacterial_spot/04...   \n",
      "1  PlantVillage//Pepper__bell___Bacterial_spot/04...   \n",
      "2  PlantVillage//Pepper__bell___Bacterial_spot/04...   \n",
      "3  PlantVillage//Pepper__bell___Bacterial_spot/05...   \n",
      "4  PlantVillage//Pepper__bell___Bacterial_spot/05...   \n",
      "\n",
      "                           label  \n",
      "0  Pepper__bell___Bacterial_spot  \n",
      "1  Pepper__bell___Bacterial_spot  \n",
      "2  Pepper__bell___Bacterial_spot  \n",
      "3  Pepper__bell___Bacterial_spot  \n",
      "4  Pepper__bell___Bacterial_spot  \n",
      "13358\n"
     ]
    }
   ],
   "source": [
    "img_info = pd.DataFrame({'image_path':image_list,'label':label_list})\n",
    "print(img_info.head())\n",
    "print(len(img_info))"
   ]
  },
  {
   "cell_type": "code",
   "execution_count": 5,
   "metadata": {},
   "outputs": [
    {
     "data": {
      "text/html": [
       "<div>\n",
       "<style scoped>\n",
       "    .dataframe tbody tr th:only-of-type {\n",
       "        vertical-align: middle;\n",
       "    }\n",
       "\n",
       "    .dataframe tbody tr th {\n",
       "        vertical-align: top;\n",
       "    }\n",
       "\n",
       "    .dataframe thead th {\n",
       "        text-align: right;\n",
       "    }\n",
       "</style>\n",
       "<table border=\"1\" class=\"dataframe\">\n",
       "  <thead>\n",
       "    <tr style=\"text-align: right;\">\n",
       "      <th></th>\n",
       "      <th>image_path</th>\n",
       "      <th>label</th>\n",
       "      <th>labels_integer</th>\n",
       "    </tr>\n",
       "  </thead>\n",
       "  <tbody>\n",
       "    <tr>\n",
       "      <th>0</th>\n",
       "      <td>PlantVillage//Pepper__bell___Bacterial_spot/04...</td>\n",
       "      <td>Pepper__bell___Bacterial_spot</td>\n",
       "      <td>0</td>\n",
       "    </tr>\n",
       "    <tr>\n",
       "      <th>1</th>\n",
       "      <td>PlantVillage//Pepper__bell___Bacterial_spot/04...</td>\n",
       "      <td>Pepper__bell___Bacterial_spot</td>\n",
       "      <td>0</td>\n",
       "    </tr>\n",
       "    <tr>\n",
       "      <th>2</th>\n",
       "      <td>PlantVillage//Pepper__bell___Bacterial_spot/04...</td>\n",
       "      <td>Pepper__bell___Bacterial_spot</td>\n",
       "      <td>0</td>\n",
       "    </tr>\n",
       "    <tr>\n",
       "      <th>3</th>\n",
       "      <td>PlantVillage//Pepper__bell___Bacterial_spot/05...</td>\n",
       "      <td>Pepper__bell___Bacterial_spot</td>\n",
       "      <td>0</td>\n",
       "    </tr>\n",
       "    <tr>\n",
       "      <th>4</th>\n",
       "      <td>PlantVillage//Pepper__bell___Bacterial_spot/05...</td>\n",
       "      <td>Pepper__bell___Bacterial_spot</td>\n",
       "      <td>0</td>\n",
       "    </tr>\n",
       "  </tbody>\n",
       "</table>\n",
       "</div>"
      ],
      "text/plain": [
       "                                          image_path  \\\n",
       "0  PlantVillage//Pepper__bell___Bacterial_spot/04...   \n",
       "1  PlantVillage//Pepper__bell___Bacterial_spot/04...   \n",
       "2  PlantVillage//Pepper__bell___Bacterial_spot/04...   \n",
       "3  PlantVillage//Pepper__bell___Bacterial_spot/05...   \n",
       "4  PlantVillage//Pepper__bell___Bacterial_spot/05...   \n",
       "\n",
       "                           label labels_integer  \n",
       "0  Pepper__bell___Bacterial_spot              0  \n",
       "1  Pepper__bell___Bacterial_spot              0  \n",
       "2  Pepper__bell___Bacterial_spot              0  \n",
       "3  Pepper__bell___Bacterial_spot              0  \n",
       "4  Pepper__bell___Bacterial_spot              0  "
      ]
     },
     "execution_count": 5,
     "metadata": {},
     "output_type": "execute_result"
    }
   ],
   "source": [
    "img_info[\"labels_integer\"] = None\n",
    "#index of new column\n",
    "index_labels_integer = img_info.columns.get_loc(\"labels_integer\")\n",
    "#index of species column\n",
    "index_species = img_info.columns.get_loc(\"label\")\n",
    "#to assign numeric labels starting with 0 for the first species\n",
    "k = 0 \n",
    "for i in range(len(img_info)):\n",
    "    if i == 0:\n",
    "        img_info.iloc[i, index_labels_integer] = k #here, k == 0\n",
    "    if i > 0:\n",
    "        if img_info.iloc[i-1, index_species] == img_info.iloc[i, index_species]:\n",
    "            img_info.iloc[i, index_labels_integer] = k\n",
    "        else:\n",
    "            k += 1\n",
    "            img_info.iloc[i, index_labels_integer] = k\n",
    "img_info.head()"
   ]
  },
  {
   "cell_type": "code",
   "execution_count": 6,
   "metadata": {},
   "outputs": [
    {
     "name": "stdout",
     "output_type": "stream",
     "text": [
      "13358\n"
     ]
    }
   ],
   "source": [
    "import PIL.Image\n",
    "if not hasattr(PIL.Image, 'Resampling'):  # Pillow<9.0\n",
    "    PIL.Image.Resampling = PIL.Image\n",
    "  # Now PIL.Image.Resampling.BICUBIC is always recognized.img_info = shuffle(img_info)\n",
    "list_vectors = []\n",
    "\n",
    "for image_path in img_info.image_path:\n",
    "    #read as rgb array\n",
    "    img = Image.open(image_path)\n",
    "    size = (64, 64)\n",
    "    img = img.resize(size, PIL.Image.Resampling.LANCZOS)\n",
    "    img_array = np.array(img)\n",
    "    #append image vector to list\n",
    "    list_vectors.append(img_array)\n",
    "    \n",
    "print(len(list_vectors))\n"
   ]
  },
  {
   "cell_type": "code",
   "execution_count": 7,
   "metadata": {},
   "outputs": [
    {
     "name": "stdout",
     "output_type": "stream",
     "text": [
      "(13358, 64, 64, 3)\n"
     ]
    }
   ],
   "source": [
    "X = np.stack((list_vectors))\n",
    "Y =  img_info['labels_integer']\n",
    "print(X.shape)"
   ]
  },
  {
   "cell_type": "code",
   "execution_count": 8,
   "metadata": {},
   "outputs": [
    {
     "name": "stdout",
     "output_type": "stream",
     "text": [
      "(13358,) (13358, 15)\n"
     ]
    }
   ],
   "source": [
    "X = X/255\n",
    "Y_one_hot = keras.utils.np_utils.to_categorical(Y, num_classes=15)\n",
    "print(Y.shape, Y_one_hot.shape)"
   ]
  },
  {
   "cell_type": "code",
   "execution_count": 9,
   "metadata": {},
   "outputs": [],
   "source": [
    "np.savez(\"x_images_arrayscnn\", X)\n",
    "np.savez(\"y_numeric_labelscnn\", Y_one_hot)"
   ]
  },
  {
   "cell_type": "code",
   "execution_count": 10,
   "metadata": {},
   "outputs": [
    {
     "name": "stdout",
     "output_type": "stream",
     "text": [
      "(13358, 64, 64, 3)\n"
     ]
    }
   ],
   "source": [
    "x_npz = np.load(\"x_images_arrayscnn.npz\")\n",
    "X = x_npz['arr_0']\n",
    "\n",
    "y_npz = np.load(\"y_numeric_labelscnn.npz\")\n",
    "Y_one_hot = y_npz['arr_0']\n",
    "\n",
    "print(X.shape)"
   ]
  },
  {
   "cell_type": "code",
   "execution_count": 11,
   "metadata": {},
   "outputs": [
    {
     "name": "stdout",
     "output_type": "stream",
     "text": [
      "(10686, 64, 64, 3) (1336, 64, 64, 3) (1336, 64, 64, 3) (10686, 15) (1336, 15) (1336, 15)\n"
     ]
    }
   ],
   "source": [
    "split_train = 0.8 #train 0.8, validate 0.1, test 0.1\n",
    "split_val = 0.9\n",
    "index_train = int(split_train*len(X))\n",
    "index_val = int(split_val*len(X))\n",
    "\n",
    "X_train = X[:index_train]\n",
    "X_val = X[index_train:index_val]\n",
    "X_test = X[index_val:]\n",
    "\n",
    "Y_train = Y_one_hot[:index_train]\n",
    "Y_val = Y_one_hot[index_train:index_val]\n",
    "Y_test = Y_one_hot[index_val:]\n",
    "\n",
    "\n",
    "print(X_train.shape, X_val.shape, X_test.shape, Y_train.shape, Y_val.shape, Y_test.shape)"
   ]
  },
  {
   "cell_type": "code",
   "execution_count": 12,
   "metadata": {},
   "outputs": [],
   "source": [
    "input_shape = (X_train.shape[1], X_train.shape[2], X_train.shape[3]) \n",
    "num_classes = 15\n",
    "\n",
    "model = Sequential()\n",
    "model.add(Conv2D(32, kernel_size=(5, 5), strides=(1, 1), input_shape=input_shape))\n",
    "model.add(Activation('relu'))\n",
    "model.add(MaxPooling2D(pool_size=(2, 2), strides=(2, 2)))\n",
    "model.add(Conv2D(64, (5, 5)))\n",
    "model.add(Activation('relu'))\n",
    "model.add(MaxPooling2D(pool_size=(2, 2)))\n",
    "model.add(Dropout(0.7))\n",
    "model.add(Flatten())\n",
    "model.add(Dense(1000))\n",
    "model.add(Activation('relu'))\n",
    "model.add(Dropout(0.7))\n",
    "model.add(Dense(num_classes, activation='softmax'))\n",
    "\n",
    "\n",
    "model.compile(optimizer=tf.keras.optimizers.Adam(learning_rate=0.0003, beta_1=0.9, beta_2=0.999, epsilon=None, decay=1e-8, amsgrad=False),\n",
    "              loss='categorical_crossentropy',\n",
    "              metrics=['accuracy'])"
   ]
  },
  {
   "cell_type": "code",
   "execution_count": 13,
   "metadata": {},
   "outputs": [
    {
     "name": "stdout",
     "output_type": "stream",
     "text": [
      "Model: \"sequential\"\n",
      "_________________________________________________________________\n",
      "Layer (type)                 Output Shape              Param #   \n",
      "=================================================================\n",
      "conv2d (Conv2D)              (None, 60, 60, 32)        2432      \n",
      "_________________________________________________________________\n",
      "activation (Activation)      (None, 60, 60, 32)        0         \n",
      "_________________________________________________________________\n",
      "max_pooling2d (MaxPooling2D) (None, 30, 30, 32)        0         \n",
      "_________________________________________________________________\n",
      "conv2d_1 (Conv2D)            (None, 26, 26, 64)        51264     \n",
      "_________________________________________________________________\n",
      "activation_1 (Activation)    (None, 26, 26, 64)        0         \n",
      "_________________________________________________________________\n",
      "max_pooling2d_1 (MaxPooling2 (None, 13, 13, 64)        0         \n",
      "_________________________________________________________________\n",
      "dropout (Dropout)            (None, 13, 13, 64)        0         \n",
      "_________________________________________________________________\n",
      "flatten (Flatten)            (None, 10816)             0         \n",
      "_________________________________________________________________\n",
      "dense (Dense)                (None, 1000)              10817000  \n",
      "_________________________________________________________________\n",
      "activation_2 (Activation)    (None, 1000)              0         \n",
      "_________________________________________________________________\n",
      "dropout_1 (Dropout)          (None, 1000)              0         \n",
      "_________________________________________________________________\n",
      "dense_1 (Dense)              (None, 15)                15015     \n",
      "=================================================================\n",
      "Total params: 10,885,711\n",
      "Trainable params: 10,885,711\n",
      "Non-trainable params: 0\n",
      "_________________________________________________________________\n"
     ]
    }
   ],
   "source": [
    "model.summary()"
   ]
  },
  {
   "cell_type": "code",
   "execution_count": 14,
   "metadata": {},
   "outputs": [
    {
     "name": "stdout",
     "output_type": "stream",
     "text": [
      "Training model...\n",
      "Epoch 1/10\n",
      "167/167 [==============================] - 194s 401ms/step - loss: 1.6405 - accuracy: 0.4400 - val_loss: 5.4574 - val_accuracy: 0.0000e+00\n",
      "\n",
      "Epoch 00001: val_loss improved from inf to 5.45741, saving model to disease_selected_100.h5\n",
      "Epoch 2/10\n",
      "167/167 [==============================] - 14s 85ms/step - loss: 0.9481 - accuracy: 0.6848 - val_loss: 4.3731 - val_accuracy: 0.0000e+00\n",
      "\n",
      "Epoch 00002: val_loss improved from 5.45741 to 4.37308, saving model to disease_selected_100.h5\n",
      "Epoch 3/10\n",
      "167/167 [==============================] - 14s 84ms/step - loss: 0.7400 - accuracy: 0.7481 - val_loss: 4.3802 - val_accuracy: 0.0000e+00\n",
      "\n",
      "Epoch 00003: val_loss did not improve from 4.37308\n",
      "Epoch 4/10\n",
      "167/167 [==============================] - 14s 83ms/step - loss: 0.6042 - accuracy: 0.7974 - val_loss: 4.7838 - val_accuracy: 0.0000e+00\n",
      "\n",
      "Epoch 00004: val_loss did not improve from 4.37308\n",
      "Epoch 5/10\n",
      "167/167 [==============================] - 14s 83ms/step - loss: 0.5173 - accuracy: 0.8223 - val_loss: 3.0123 - val_accuracy: 0.0651\n",
      "\n",
      "Epoch 00005: val_loss improved from 4.37308 to 3.01229, saving model to disease_selected_100.h5\n",
      "Epoch 6/10\n",
      "167/167 [==============================] - 14s 83ms/step - loss: 0.4553 - accuracy: 0.8463 - val_loss: 3.7615 - val_accuracy: 0.0516\n",
      "\n",
      "Epoch 00006: val_loss did not improve from 3.01229\n",
      "Epoch 7/10\n",
      "167/167 [==============================] - 14s 83ms/step - loss: 0.4206 - accuracy: 0.8565 - val_loss: 3.5578 - val_accuracy: 0.0674\n",
      "\n",
      "Epoch 00007: val_loss did not improve from 3.01229\n",
      "Epoch 8/10\n",
      "167/167 [==============================] - 14s 84ms/step - loss: 0.3734 - accuracy: 0.8716 - val_loss: 2.8147 - val_accuracy: 0.1527\n",
      "\n",
      "Epoch 00008: val_loss improved from 3.01229 to 2.81468, saving model to disease_selected_100.h5\n",
      "Epoch 9/10\n",
      "167/167 [==============================] - 14s 83ms/step - loss: 0.3578 - accuracy: 0.8800 - val_loss: 3.5134 - val_accuracy: 0.0763\n",
      "\n",
      "Epoch 00009: val_loss did not improve from 2.81468\n",
      "Epoch 10/10\n",
      "167/167 [==============================] - 14s 85ms/step - loss: 0.3194 - accuracy: 0.8909 - val_loss: 3.0724 - val_accuracy: 0.1355\n",
      "\n",
      "Epoch 00010: val_loss did not improve from 2.81468\n",
      "Traing finished.\n",
      "Loading the best model...\n",
      "Best Model loaded!\n"
     ]
    }
   ],
   "source": [
    "best_model_file = \"disease_selected_100.h5\"\n",
    "best_model = ModelCheckpoint(best_model_file, monitor='val_loss', verbose=1, save_best_only=True)\n",
    "\n",
    "print('Training model...')\n",
    "results = model.fit(X_train, Y_train, epochs=10, batch_size=64, validation_data=(X_val, Y_val), callbacks=[best_model])\n",
    "print('Traing finished.')\n",
    "\n",
    "print('Loading the best model...')\n",
    "model = load_model(best_model_file)\n",
    "print('Best Model loaded!')"
   ]
  },
  {
   "cell_type": "code",
   "execution_count": 15,
   "metadata": {},
   "outputs": [
    {
     "name": "stdout",
     "output_type": "stream",
     "text": [
      "42/42 [==============================] - 5s 25ms/step - loss: 8.7776 - accuracy: 0.0337\n"
     ]
    },
    {
     "data": {
      "text/plain": [
       "[8.77762222290039, 0.03368263319134712]"
      ]
     },
     "execution_count": 15,
     "metadata": {},
     "output_type": "execute_result"
    }
   ],
   "source": [
    "model.evaluate(X_test, Y_test)"
   ]
  },
  {
   "cell_type": "code",
   "execution_count": 16,
   "metadata": {},
   "outputs": [
    {
     "data": {
      "text/plain": [
       "['Pepper__bell___Bacterial_spot',\n",
       " 'Pepper__bell___healthy',\n",
       " 'Potato___Early_blight',\n",
       " 'Potato___healthy',\n",
       " 'Potato___Late_blight',\n",
       " 'Tomato_Bacterial_spot',\n",
       " 'Tomato_Early_blight',\n",
       " 'Tomato_Late_blight',\n",
       " 'Tomato_Leaf_Mold',\n",
       " 'Tomato_Septoria_leaf_spot',\n",
       " 'Tomato_Spider_mites_Two_spotted_spider_mite']"
      ]
     },
     "execution_count": 16,
     "metadata": {},
     "output_type": "execute_result"
    }
   ],
   "source": [
    "labels = []\n",
    "for plant_folder in root_dir :\n",
    "    labels.append(plant_folder) \n",
    "labels"
   ]
  },
  {
   "cell_type": "code",
   "execution_count": 17,
   "metadata": {},
   "outputs": [
    {
     "name": "stdout",
     "output_type": "stream",
     "text": [
      "(1, 64, 64, 3)\n"
     ]
    }
   ],
   "source": [
    "imgpred = Image.open('tomato_early_blight.jpg')\n",
    "size = (64, 64)\n",
    "imgpred = imgpred.resize(size, PIL.Image.Resampling.LANCZOS)\n",
    "img_arr = np.array(imgpred)\n",
    "#append image vector to list\n",
    "imgvec = [img_arr]\n",
    "Xpred = np.stack((imgvec))\n",
    "Xpred = Xpred/255\n",
    "np.savez(\"x_image\", Xpred)\n",
    "x_npz_pred = np.load(\"x_image.npz\")\n",
    "Xpred = x_npz_pred['arr_0']\n",
    "print(Xpred.shape)"
   ]
  },
  {
   "cell_type": "code",
   "execution_count": 18,
   "metadata": {},
   "outputs": [
    {
     "name": "stdout",
     "output_type": "stream",
     "text": [
      "[[7.07073463e-03 6.11586787e-04 1.78866996e-03 1.75946436e-04\n",
      "  2.77377735e-03 1.40998047e-03 8.95507634e-01 2.62689646e-02\n",
      "  3.29193547e-02 3.14258933e-02 9.42939459e-06 9.77648415e-06\n",
      "  4.65549829e-06 1.39542935e-05 9.63243474e-06]]\n",
      "Tomato_Early_blight\n"
     ]
    }
   ],
   "source": [
    "result = model.predict(Xpred)\n",
    "print(result)\n",
    "itemindex = np.where(result==np.max(result))\n",
    "print(labels[itemindex[1][0]])"
   ]
  },
  {
   "cell_type": "code",
   "execution_count": 19,
   "metadata": {},
   "outputs": [
    {
     "data": {
      "image/png": "[encoded data removed]",
      "text/plain": [
       "<Figure size 432x288 with 1 Axes>"
      ]
     },
     "metadata": {
      "needs_background": "light"
     },
     "output_type": "display_data"
    }
   ],
   "source": [
    "plt.imshow(imgpred)\n",
    "plt.axis('off')\n",
    "plt.title(\"Predicted label: \"+labels[itemindex[1][0]])\n",
    "plt.show()"
   ]
  },
  {
   "cell_type": "code",
   "execution_count": null,
   "metadata": {},
   "outputs": [],
   "source": []
  }
 ],
 "metadata": {
  "kernelspec": {
   "display_name": "Python 3 (ipykernel)",
   "language": "python",
   "name": "python3"
  },
  "language_info": {
   "codemirror_mode": {
    "name": "ipython",
    "version": 3
   },
   "file_extension": ".py",
   "mimetype": "text/x-python",
   "name": "python",
   "nbconvert_exporter": "python",
   "pygments_lexer": "ipython3",
   "version": "3.9.7"
  }
 },
 "nbformat": 4,
 "nbformat_minor": 4
}
